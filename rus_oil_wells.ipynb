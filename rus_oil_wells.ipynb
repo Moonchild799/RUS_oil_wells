{
 "cells": [
  {
   "cell_type": "markdown",
   "metadata": {},
   "source": [
    "# Оглавление\n",
    "\n",
    "- [Вступление](#intro)\n",
    "- [Подготовка данных](#preparing)\n",
    "  - [Выводы по подготовке](#preparing_conclusion)\n",
    "- [Обучение и проверка моделей](#fit)\n",
    "  - [Регион 1](#fit_1)\n",
    "  - [Регион 2](#fit_2)\n",
    "  - [Регион 3](#fit_3)\n",
    "  - [Выводы по моделям](#fit_conclusion)\n",
    "- [Подготовка к расчёту прибыли](#prep_profit_calc)\n",
    "- [Расчёт прибыли и рисков](#profit_calc)\n",
    "  - [Регион 1](#profit_1)\n",
    "  - [Регион 2](#profit_2)\n",
    "  - [Регион 3](#profit_3)\n",
    "- [Выводы](#conclusion)"
   ]
  },
  {
   "cell_type": "markdown",
   "metadata": {},
   "source": [
    "<a id='intro'></a>\n",
    "## Вступление\n",
    "Перед нами стоит задача выбрать место для бурения новых нефтескважин. Нам предоставлены данные по трём регионам в которых содержаться объёмы и качество нефти, по каждому региону свой отдельный файл. Изучим предоставленные данные, при необходимости сделаем предобработку. Будем использовать эти данные чтобы построить модель машинного обучения которая поможет нам определить потенциально наиболее прибыльный регион. После этого техникой Bootstrap проанализируем прибыль и возможные риски."
   ]
  },
  {
   "cell_type": "markdown",
   "metadata": {},
   "source": [
    "<a id='preparing'></a>\n",
    "## Загрузка и подготовка данных"
   ]
  },
  {
   "cell_type": "markdown",
   "metadata": {},
   "source": [
    "**Импортируем необходимые библиотеки**"
   ]
  },
  {
   "cell_type": "code",
   "execution_count": 1,
   "metadata": {},
   "outputs": [],
   "source": [
    "import pandas as pd\n",
    "import numpy as np\n",
    "\n",
    "from scipy import stats as st\n",
    "\n",
    "from sklearn.model_selection import train_test_split, cross_val_score, KFold, GridSearchCV\n",
    "from sklearn.preprocessing import StandardScaler, PolynomialFeatures\n",
    "\n",
    "from sklearn.linear_model import LinearRegression\n",
    "from sklearn.metrics import mean_squared_error, r2_score"
   ]
  },
  {
   "cell_type": "markdown",
   "metadata": {},
   "source": [
    "**Читаем исходные файлы**"
   ]
  },
  {
   "cell_type": "code",
   "execution_count": 2,
   "metadata": {},
   "outputs": [],
   "source": [
    "region_1_data = pd.read_csv('geo_data_0.csv')\n",
    "region_2_data = pd.read_csv('geo_data_1.csv')\n",
    "region_3_data = pd.read_csv('geo_data_2.csv')"
   ]
  },
  {
   "cell_type": "markdown",
   "metadata": {},
   "source": [
    "**Основная информация о датафрейме**"
   ]
  },
  {
   "cell_type": "code",
   "execution_count": 3,
   "metadata": {},
   "outputs": [
    {
     "name": "stdout",
     "output_type": "stream",
     "text": [
      "<class 'pandas.core.frame.DataFrame'>\n",
      "RangeIndex: 100000 entries, 0 to 99999\n",
      "Data columns (total 5 columns):\n",
      " #   Column   Non-Null Count   Dtype  \n",
      "---  ------   --------------   -----  \n",
      " 0   id       100000 non-null  object \n",
      " 1   f0       100000 non-null  float64\n",
      " 2   f1       100000 non-null  float64\n",
      " 3   f2       100000 non-null  float64\n",
      " 4   product  100000 non-null  float64\n",
      "dtypes: float64(4), object(1)\n",
      "memory usage: 3.8+ MB\n",
      "<class 'pandas.core.frame.DataFrame'>\n",
      "RangeIndex: 100000 entries, 0 to 99999\n",
      "Data columns (total 5 columns):\n",
      " #   Column   Non-Null Count   Dtype  \n",
      "---  ------   --------------   -----  \n",
      " 0   id       100000 non-null  object \n",
      " 1   f0       100000 non-null  float64\n",
      " 2   f1       100000 non-null  float64\n",
      " 3   f2       100000 non-null  float64\n",
      " 4   product  100000 non-null  float64\n",
      "dtypes: float64(4), object(1)\n",
      "memory usage: 3.8+ MB\n",
      "<class 'pandas.core.frame.DataFrame'>\n",
      "RangeIndex: 100000 entries, 0 to 99999\n",
      "Data columns (total 5 columns):\n",
      " #   Column   Non-Null Count   Dtype  \n",
      "---  ------   --------------   -----  \n",
      " 0   id       100000 non-null  object \n",
      " 1   f0       100000 non-null  float64\n",
      " 2   f1       100000 non-null  float64\n",
      " 3   f2       100000 non-null  float64\n",
      " 4   product  100000 non-null  float64\n",
      "dtypes: float64(4), object(1)\n",
      "memory usage: 3.8+ MB\n"
     ]
    }
   ],
   "source": [
    "region_1_data.info()\n",
    "region_2_data.info()\n",
    "region_3_data.info()"
   ]
  },
  {
   "cell_type": "code",
   "execution_count": 4,
   "metadata": {},
   "outputs": [
    {
     "data": {
      "text/html": [
       "<div>\n",
       "<style scoped>\n",
       "    .dataframe tbody tr th:only-of-type {\n",
       "        vertical-align: middle;\n",
       "    }\n",
       "\n",
       "    .dataframe tbody tr th {\n",
       "        vertical-align: top;\n",
       "    }\n",
       "\n",
       "    .dataframe thead th {\n",
       "        text-align: right;\n",
       "    }\n",
       "</style>\n",
       "<table border=\"1\" class=\"dataframe\">\n",
       "  <thead>\n",
       "    <tr style=\"text-align: right;\">\n",
       "      <th></th>\n",
       "      <th>id</th>\n",
       "      <th>f0</th>\n",
       "      <th>f1</th>\n",
       "      <th>f2</th>\n",
       "      <th>product</th>\n",
       "    </tr>\n",
       "  </thead>\n",
       "  <tbody>\n",
       "    <tr>\n",
       "      <th>0</th>\n",
       "      <td>txEyH</td>\n",
       "      <td>0.705745</td>\n",
       "      <td>-0.497823</td>\n",
       "      <td>1.221170</td>\n",
       "      <td>105.280062</td>\n",
       "    </tr>\n",
       "    <tr>\n",
       "      <th>1</th>\n",
       "      <td>2acmU</td>\n",
       "      <td>1.334711</td>\n",
       "      <td>-0.340164</td>\n",
       "      <td>4.365080</td>\n",
       "      <td>73.037750</td>\n",
       "    </tr>\n",
       "    <tr>\n",
       "      <th>2</th>\n",
       "      <td>409Wp</td>\n",
       "      <td>1.022732</td>\n",
       "      <td>0.151990</td>\n",
       "      <td>1.419926</td>\n",
       "      <td>85.265647</td>\n",
       "    </tr>\n",
       "    <tr>\n",
       "      <th>3</th>\n",
       "      <td>iJLyR</td>\n",
       "      <td>-0.032172</td>\n",
       "      <td>0.139033</td>\n",
       "      <td>2.978566</td>\n",
       "      <td>168.620776</td>\n",
       "    </tr>\n",
       "    <tr>\n",
       "      <th>4</th>\n",
       "      <td>Xdl7t</td>\n",
       "      <td>1.988431</td>\n",
       "      <td>0.155413</td>\n",
       "      <td>4.751769</td>\n",
       "      <td>154.036647</td>\n",
       "    </tr>\n",
       "  </tbody>\n",
       "</table>\n",
       "</div>"
      ],
      "text/plain": [
       "      id        f0        f1        f2     product\n",
       "0  txEyH  0.705745 -0.497823  1.221170  105.280062\n",
       "1  2acmU  1.334711 -0.340164  4.365080   73.037750\n",
       "2  409Wp  1.022732  0.151990  1.419926   85.265647\n",
       "3  iJLyR -0.032172  0.139033  2.978566  168.620776\n",
       "4  Xdl7t  1.988431  0.155413  4.751769  154.036647"
      ]
     },
     "metadata": {},
     "output_type": "display_data"
    },
    {
     "data": {
      "text/html": [
       "<div>\n",
       "<style scoped>\n",
       "    .dataframe tbody tr th:only-of-type {\n",
       "        vertical-align: middle;\n",
       "    }\n",
       "\n",
       "    .dataframe tbody tr th {\n",
       "        vertical-align: top;\n",
       "    }\n",
       "\n",
       "    .dataframe thead th {\n",
       "        text-align: right;\n",
       "    }\n",
       "</style>\n",
       "<table border=\"1\" class=\"dataframe\">\n",
       "  <thead>\n",
       "    <tr style=\"text-align: right;\">\n",
       "      <th></th>\n",
       "      <th>id</th>\n",
       "      <th>f0</th>\n",
       "      <th>f1</th>\n",
       "      <th>f2</th>\n",
       "      <th>product</th>\n",
       "    </tr>\n",
       "  </thead>\n",
       "  <tbody>\n",
       "    <tr>\n",
       "      <th>0</th>\n",
       "      <td>kBEdx</td>\n",
       "      <td>-15.001348</td>\n",
       "      <td>-8.276000</td>\n",
       "      <td>-0.005876</td>\n",
       "      <td>3.179103</td>\n",
       "    </tr>\n",
       "    <tr>\n",
       "      <th>1</th>\n",
       "      <td>62mP7</td>\n",
       "      <td>14.272088</td>\n",
       "      <td>-3.475083</td>\n",
       "      <td>0.999183</td>\n",
       "      <td>26.953261</td>\n",
       "    </tr>\n",
       "    <tr>\n",
       "      <th>2</th>\n",
       "      <td>vyE1P</td>\n",
       "      <td>6.263187</td>\n",
       "      <td>-5.948386</td>\n",
       "      <td>5.001160</td>\n",
       "      <td>134.766305</td>\n",
       "    </tr>\n",
       "    <tr>\n",
       "      <th>3</th>\n",
       "      <td>KcrkZ</td>\n",
       "      <td>-13.081196</td>\n",
       "      <td>-11.506057</td>\n",
       "      <td>4.999415</td>\n",
       "      <td>137.945408</td>\n",
       "    </tr>\n",
       "    <tr>\n",
       "      <th>4</th>\n",
       "      <td>AHL4O</td>\n",
       "      <td>12.702195</td>\n",
       "      <td>-8.147433</td>\n",
       "      <td>5.004363</td>\n",
       "      <td>134.766305</td>\n",
       "    </tr>\n",
       "  </tbody>\n",
       "</table>\n",
       "</div>"
      ],
      "text/plain": [
       "      id         f0         f1        f2     product\n",
       "0  kBEdx -15.001348  -8.276000 -0.005876    3.179103\n",
       "1  62mP7  14.272088  -3.475083  0.999183   26.953261\n",
       "2  vyE1P   6.263187  -5.948386  5.001160  134.766305\n",
       "3  KcrkZ -13.081196 -11.506057  4.999415  137.945408\n",
       "4  AHL4O  12.702195  -8.147433  5.004363  134.766305"
      ]
     },
     "metadata": {},
     "output_type": "display_data"
    },
    {
     "data": {
      "text/html": [
       "<div>\n",
       "<style scoped>\n",
       "    .dataframe tbody tr th:only-of-type {\n",
       "        vertical-align: middle;\n",
       "    }\n",
       "\n",
       "    .dataframe tbody tr th {\n",
       "        vertical-align: top;\n",
       "    }\n",
       "\n",
       "    .dataframe thead th {\n",
       "        text-align: right;\n",
       "    }\n",
       "</style>\n",
       "<table border=\"1\" class=\"dataframe\">\n",
       "  <thead>\n",
       "    <tr style=\"text-align: right;\">\n",
       "      <th></th>\n",
       "      <th>id</th>\n",
       "      <th>f0</th>\n",
       "      <th>f1</th>\n",
       "      <th>f2</th>\n",
       "      <th>product</th>\n",
       "    </tr>\n",
       "  </thead>\n",
       "  <tbody>\n",
       "    <tr>\n",
       "      <th>0</th>\n",
       "      <td>fwXo0</td>\n",
       "      <td>-1.146987</td>\n",
       "      <td>0.963328</td>\n",
       "      <td>-0.828965</td>\n",
       "      <td>27.758673</td>\n",
       "    </tr>\n",
       "    <tr>\n",
       "      <th>1</th>\n",
       "      <td>WJtFt</td>\n",
       "      <td>0.262778</td>\n",
       "      <td>0.269839</td>\n",
       "      <td>-2.530187</td>\n",
       "      <td>56.069697</td>\n",
       "    </tr>\n",
       "    <tr>\n",
       "      <th>2</th>\n",
       "      <td>ovLUW</td>\n",
       "      <td>0.194587</td>\n",
       "      <td>0.289035</td>\n",
       "      <td>-5.586433</td>\n",
       "      <td>62.871910</td>\n",
       "    </tr>\n",
       "    <tr>\n",
       "      <th>3</th>\n",
       "      <td>q6cA6</td>\n",
       "      <td>2.236060</td>\n",
       "      <td>-0.553760</td>\n",
       "      <td>0.930038</td>\n",
       "      <td>114.572842</td>\n",
       "    </tr>\n",
       "    <tr>\n",
       "      <th>4</th>\n",
       "      <td>WPMUX</td>\n",
       "      <td>-0.515993</td>\n",
       "      <td>1.716266</td>\n",
       "      <td>5.899011</td>\n",
       "      <td>149.600746</td>\n",
       "    </tr>\n",
       "  </tbody>\n",
       "</table>\n",
       "</div>"
      ],
      "text/plain": [
       "      id        f0        f1        f2     product\n",
       "0  fwXo0 -1.146987  0.963328 -0.828965   27.758673\n",
       "1  WJtFt  0.262778  0.269839 -2.530187   56.069697\n",
       "2  ovLUW  0.194587  0.289035 -5.586433   62.871910\n",
       "3  q6cA6  2.236060 -0.553760  0.930038  114.572842\n",
       "4  WPMUX -0.515993  1.716266  5.899011  149.600746"
      ]
     },
     "metadata": {},
     "output_type": "display_data"
    }
   ],
   "source": [
    "display(region_1_data.head())\n",
    "display(region_2_data.head())\n",
    "display(region_3_data.head())"
   ]
  },
  {
   "cell_type": "markdown",
   "metadata": {},
   "source": [
    "По каждому региону имеем одинаковое количество строк (месторождений) - 100000. Целевой признак находится в колонке `product` - объём запасов нефти. Колонки `f0`, `f1`, `f2` содержат признаки по которым нам нужно будет делать предсказания с помощью модели. Колонка `id` содержит идентификатор скважины, для обучения модели эти данные не будут нужны, удалим их, но сначала посмотрим есть ли в данных пропуски."
   ]
  },
  {
   "cell_type": "markdown",
   "metadata": {},
   "source": [
    "**Пропуски**"
   ]
  },
  {
   "cell_type": "code",
   "execution_count": 5,
   "metadata": {},
   "outputs": [
    {
     "data": {
      "text/plain": [
       "id         0\n",
       "f0         0\n",
       "f1         0\n",
       "f2         0\n",
       "product    0\n",
       "dtype: int64"
      ]
     },
     "metadata": {},
     "output_type": "display_data"
    },
    {
     "data": {
      "text/plain": [
       "id         0\n",
       "f0         0\n",
       "f1         0\n",
       "f2         0\n",
       "product    0\n",
       "dtype: int64"
      ]
     },
     "metadata": {},
     "output_type": "display_data"
    },
    {
     "data": {
      "text/plain": [
       "id         0\n",
       "f0         0\n",
       "f1         0\n",
       "f2         0\n",
       "product    0\n",
       "dtype: int64"
      ]
     },
     "metadata": {},
     "output_type": "display_data"
    }
   ],
   "source": [
    "display(region_1_data.isna().sum())\n",
    "display(region_2_data.isna().sum())\n",
    "display(region_3_data.isna().sum())"
   ]
  },
  {
   "cell_type": "markdown",
   "metadata": {},
   "source": [
    "В данных пропусков нет. "
   ]
  },
  {
   "cell_type": "markdown",
   "metadata": {},
   "source": [
    "**Целевой признак**\n",
    "\n",
    "Посмотрим на распределение целевого признака в регионах."
   ]
  },
  {
   "cell_type": "code",
   "execution_count": 6,
   "metadata": {},
   "outputs": [
    {
     "data": {
      "image/png": "[encoded data removed]",
      "text/plain": [
       "<Figure size 432x288 with 1 Axes>"
      ]
     },
     "metadata": {
      "needs_background": "light"
     },
     "output_type": "display_data"
    }
   ],
   "source": [
    "region_1_data['product'].hist();"
   ]
  },
  {
   "cell_type": "code",
   "execution_count": 7,
   "metadata": {},
   "outputs": [
    {
     "data": {
      "image/png": "[encoded data removed]",
      "text/plain": [
       "<Figure size 432x288 with 1 Axes>"
      ]
     },
     "metadata": {
      "needs_background": "light"
     },
     "output_type": "display_data"
    }
   ],
   "source": [
    "region_2_data['product'].hist();"
   ]
  },
  {
   "cell_type": "code",
   "execution_count": 8,
   "metadata": {},
   "outputs": [
    {
     "data": {
      "image/png": "[encoded data removed]",
      "text/plain": [
       "<Figure size 432x288 with 1 Axes>"
      ]
     },
     "metadata": {
      "needs_background": "light"
     },
     "output_type": "display_data"
    }
   ],
   "source": [
    "region_3_data['product'].hist();"
   ]
  },
  {
   "cell_type": "markdown",
   "metadata": {},
   "source": [
    "Распределения 1 и 3 регионов похоже. Оба имеют нормальное или похожее на нормальное распределение. У 2 региона есть сильные пики в крайних точках, в остальных диапазонах распределение равномерное."
   ]
  },
  {
   "cell_type": "markdown",
   "metadata": {},
   "source": [
    "**Удаление ненужных данных**\n",
    "\n",
    "Удалим колонку `id` из всех трёх датафреймов."
   ]
  },
  {
   "cell_type": "code",
   "execution_count": 9,
   "metadata": {},
   "outputs": [],
   "source": [
    "region_1_data = region_1_data.drop(['id'], axis=1).reset_index(drop=True)\n",
    "region_2_data = region_2_data.drop(['id'], axis=1).reset_index(drop=True)\n",
    "region_3_data = region_3_data.drop(['id'], axis=1).reset_index(drop=True)"
   ]
  },
  {
   "cell_type": "code",
   "execution_count": 10,
   "metadata": {},
   "outputs": [
    {
     "name": "stdout",
     "output_type": "stream",
     "text": [
      "<class 'pandas.core.frame.DataFrame'>\n",
      "RangeIndex: 100000 entries, 0 to 99999\n",
      "Data columns (total 4 columns):\n",
      " #   Column   Non-Null Count   Dtype  \n",
      "---  ------   --------------   -----  \n",
      " 0   f0       100000 non-null  float64\n",
      " 1   f1       100000 non-null  float64\n",
      " 2   f2       100000 non-null  float64\n",
      " 3   product  100000 non-null  float64\n",
      "dtypes: float64(4)\n",
      "memory usage: 3.1 MB\n"
     ]
    },
    {
     "data": {
      "text/plain": [
       "None"
      ]
     },
     "metadata": {},
     "output_type": "display_data"
    },
    {
     "name": "stdout",
     "output_type": "stream",
     "text": [
      "<class 'pandas.core.frame.DataFrame'>\n",
      "RangeIndex: 100000 entries, 0 to 99999\n",
      "Data columns (total 4 columns):\n",
      " #   Column   Non-Null Count   Dtype  \n",
      "---  ------   --------------   -----  \n",
      " 0   f0       100000 non-null  float64\n",
      " 1   f1       100000 non-null  float64\n",
      " 2   f2       100000 non-null  float64\n",
      " 3   product  100000 non-null  float64\n",
      "dtypes: float64(4)\n",
      "memory usage: 3.1 MB\n"
     ]
    },
    {
     "data": {
      "text/plain": [
       "None"
      ]
     },
     "metadata": {},
     "output_type": "display_data"
    },
    {
     "name": "stdout",
     "output_type": "stream",
     "text": [
      "<class 'pandas.core.frame.DataFrame'>\n",
      "RangeIndex: 100000 entries, 0 to 99999\n",
      "Data columns (total 4 columns):\n",
      " #   Column   Non-Null Count   Dtype  \n",
      "---  ------   --------------   -----  \n",
      " 0   f0       100000 non-null  float64\n",
      " 1   f1       100000 non-null  float64\n",
      " 2   f2       100000 non-null  float64\n",
      " 3   product  100000 non-null  float64\n",
      "dtypes: float64(4)\n",
      "memory usage: 3.1 MB\n"
     ]
    },
    {
     "data": {
      "text/plain": [
       "None"
      ]
     },
     "metadata": {},
     "output_type": "display_data"
    }
   ],
   "source": [
    "display(region_1_data.info())\n",
    "display(region_2_data.info())\n",
    "display(region_3_data.info())"
   ]
  },
  {
   "cell_type": "markdown",
   "metadata": {},
   "source": [
    "Ненужную колонку удалили, можем приступать к разбивке на выборки."
   ]
  },
  {
   "cell_type": "markdown",
   "metadata": {},
   "source": [
    "**Выделение целевого признака**\n",
    "\n",
    "Целевой признак находится в колонке `product`, остальные будем использовать в качестве признаков. Выделим целевой признак в отдельную переменную для каждого региона и признаки так же в отдельные переменные."
   ]
  },
  {
   "cell_type": "code",
   "execution_count": 11,
   "metadata": {},
   "outputs": [],
   "source": [
    "features_1 = region_1_data.drop('product', axis=1)\n",
    "features_2 = region_2_data.drop('product', axis=1)\n",
    "features_3 = region_3_data.drop('product', axis=1)\n",
    "\n",
    "target_1 = region_1_data['product']\n",
    "target_2 = region_2_data['product']\n",
    "target_3 = region_3_data['product']"
   ]
  },
  {
   "cell_type": "markdown",
   "metadata": {},
   "source": [
    "**Полиномиальные признаки**\n",
    "\n",
    "Сгенерируем полиномиальные признаки которые помогут нам для обучения модели."
   ]
  },
  {
   "cell_type": "code",
   "execution_count": 12,
   "metadata": {},
   "outputs": [],
   "source": [
    "poly = PolynomialFeatures(degree=6, include_bias=False)\n",
    "poly_features_1 = poly.fit_transform(features_1)\n",
    "poly_features_2 = poly.fit_transform(features_2)\n",
    "poly_features_3 = poly.fit_transform(features_3)"
   ]
  },
  {
   "cell_type": "markdown",
   "metadata": {},
   "source": [
    "**Разбитие данных на выборки**\n",
    "\n",
    "Теперь нам нужно получить две выборки:\n",
    "\n",
    "- Тренировочную - для обучения модели\n",
    "- Валидационную - на которой мы будем проверять модель\n",
    "\n",
    "Разделение произведём в соотношении 3:1, тоесть 75% - тренировочная выборка, 25% - валидационная выборка."
   ]
  },
  {
   "cell_type": "code",
   "execution_count": 13,
   "metadata": {},
   "outputs": [],
   "source": [
    "features_train_1, features_valid_1, target_train_1, target_valid_1 = train_test_split(\n",
    "    poly_features_1, target_1, test_size=0.25, random_state=12345)\n",
    "\n",
    "features_train_2, features_valid_2, target_train_2, target_valid_2 = train_test_split(\n",
    "    poly_features_2, target_2, test_size=0.25, random_state=12345)\n",
    "\n",
    "features_train_3, features_valid_3, target_train_3, target_valid_3 = train_test_split(\n",
    "    poly_features_3, target_3, test_size=0.25, random_state=12345)"
   ]
  },
  {
   "cell_type": "code",
   "execution_count": 14,
   "metadata": {},
   "outputs": [
    {
     "name": "stdout",
     "output_type": "stream",
     "text": [
      "(75000, 83)\n",
      "(25000, 83)\n",
      "(75000,)\n",
      "(25000,)\n"
     ]
    }
   ],
   "source": [
    "print(features_train_1.shape)\n",
    "print(features_valid_1.shape)\n",
    "print(target_train_1.shape)\n",
    "print(target_valid_1.shape)"
   ]
  },
  {
   "cell_type": "code",
   "execution_count": 15,
   "metadata": {},
   "outputs": [
    {
     "name": "stdout",
     "output_type": "stream",
     "text": [
      "(75000, 83)\n",
      "(25000, 83)\n",
      "(75000,)\n",
      "(25000,)\n"
     ]
    }
   ],
   "source": [
    "print(features_train_2.shape)\n",
    "print(features_valid_2.shape)\n",
    "print(target_train_2.shape)\n",
    "print(target_valid_2.shape)"
   ]
  },
  {
   "cell_type": "code",
   "execution_count": 16,
   "metadata": {},
   "outputs": [
    {
     "name": "stdout",
     "output_type": "stream",
     "text": [
      "(75000, 83)\n",
      "(25000, 83)\n",
      "(75000,)\n",
      "(25000,)\n"
     ]
    }
   ],
   "source": [
    "print(features_train_3.shape)\n",
    "print(features_valid_3.shape)\n",
    "print(target_train_3.shape)\n",
    "print(target_valid_3.shape)"
   ]
  },
  {
   "cell_type": "markdown",
   "metadata": {},
   "source": [
    "Сделали разбитие, проверили размеры - всё корректно."
   ]
  },
  {
   "cell_type": "markdown",
   "metadata": {},
   "source": [
    "<a id='preparing_conclusion'></a>\n",
    "### Выводы по подготовке данных\n",
    "\n",
    "Изучили данные.\n",
    "\n",
    "- Пропусков в данных нет.\n",
    "- Посмотрели на распеделение целевого признака по регионам. Во 2 регионе распределение сильно отличается от 1 и 3.\n",
    "- Удалили ненужную для построения модели колонку `id`.\n",
    "- Выделили целевой признак в отдельную переменную.\n",
    "- Сделали разбитие данных на тренировочную и валидационную выборки в соотношении 3:1 (75%/25%)"
   ]
  },
  {
   "cell_type": "markdown",
   "metadata": {},
   "source": [
    "<a id='fit'></a>\n",
    "## Обучение и проверка модели"
   ]
  },
  {
   "cell_type": "markdown",
   "metadata": {},
   "source": [
    "Будем использовать линейную регрессию в качестве модели. Обучим её использую кросс-валидацию GridSearchCV."
   ]
  },
  {
   "cell_type": "markdown",
   "metadata": {},
   "source": [
    "<a id='fit_1'></a>\n",
    "### Регион 1"
   ]
  },
  {
   "cell_type": "code",
   "execution_count": 17,
   "metadata": {
    "scrolled": true
   },
   "outputs": [
    {
     "name": "stdout",
     "output_type": "stream",
     "text": [
      "Fitting 5 folds for each of 1 candidates, totalling 5 fits\n"
     ]
    },
    {
     "data": {
      "text/plain": [
       "GridSearchCV(cv=KFold(n_splits=5, random_state=12345, shuffle=True),\n",
       "             estimator=LinearRegression(), param_grid={},\n",
       "             return_train_score=True, scoring='r2', verbose=1)"
      ]
     },
     "execution_count": 17,
     "metadata": {},
     "output_type": "execute_result"
    }
   ],
   "source": [
    "folds = KFold(n_splits = 5, shuffle = True, random_state = 12345)\n",
    "\n",
    "params = {}\n",
    "model_1 = LinearRegression()\n",
    "\n",
    "model_1_cv = GridSearchCV(estimator = model_1, \n",
    "                          param_grid = params, \n",
    "                          scoring= 'r2', \n",
    "                          cv = folds, \n",
    "                          verbose = 1,\n",
    "                          return_train_score=True)\n",
    "model_1_cv.fit(features_train_1, target_train_1)"
   ]
  },
  {
   "cell_type": "code",
   "execution_count": 18,
   "metadata": {
    "scrolled": true
   },
   "outputs": [
    {
     "name": "stdout",
     "output_type": "stream",
     "text": [
      "Регион 1\n",
      "RMSE = 37.033929119113814\n",
      "R2: 0.2961016010654381\n",
      "Среднее количество сырья = 92.54062437295887\n"
     ]
    }
   ],
   "source": [
    "predicted_valid_1 = model_1_cv.predict(features_valid_1)\n",
    "rmse_1 = mean_squared_error(target_valid_1, predicted_valid_1, squared=False)\n",
    "\n",
    "\n",
    "print(\"Регион 1\")\n",
    "print(\"RMSE =\", rmse_1)\n",
    "print(\"R2:\", model_1_cv.best_score_)\n",
    "print(\"Среднее количество сырья =\", predicted_valid_1.mean())"
   ]
  },
  {
   "cell_type": "markdown",
   "metadata": {},
   "source": [
    "В первом регионе модель предсказала содержание среднего колличества сырья 92.54тыс. баррелей. **RMSE** модели = **37.03**. Посмотрим теперь модель для второго региона."
   ]
  },
  {
   "cell_type": "markdown",
   "metadata": {},
   "source": [
    "<a id='fit_2'></a>\n",
    "### Регион 2"
   ]
  },
  {
   "cell_type": "code",
   "execution_count": 19,
   "metadata": {},
   "outputs": [
    {
     "name": "stdout",
     "output_type": "stream",
     "text": [
      "Fitting 5 folds for each of 1 candidates, totalling 5 fits\n"
     ]
    },
    {
     "data": {
      "text/plain": [
       "GridSearchCV(cv=KFold(n_splits=5, random_state=12345, shuffle=True),\n",
       "             estimator=LinearRegression(), param_grid={},\n",
       "             return_train_score=True, scoring='r2', verbose=1)"
      ]
     },
     "execution_count": 19,
     "metadata": {},
     "output_type": "execute_result"
    }
   ],
   "source": [
    "folds = KFold(n_splits = 5, shuffle = True, random_state = 12345)\n",
    "\n",
    "params = {}\n",
    "model_2 = LinearRegression()\n",
    "\n",
    "model_2_cv = GridSearchCV(estimator = model_2, \n",
    "                          param_grid = params, \n",
    "                          scoring= 'r2', \n",
    "                          cv = folds, \n",
    "                          verbose = 1,\n",
    "                          return_train_score=True)\n",
    "model_2_cv.fit(features_train_2, target_train_2)"
   ]
  },
  {
   "cell_type": "code",
   "execution_count": 20,
   "metadata": {
    "scrolled": true
   },
   "outputs": [
    {
     "name": "stdout",
     "output_type": "stream",
     "text": [
      "Регион 2\n",
      "RMSE = 0.7523874998163472\n",
      "R2: 0.9997349362392669\n",
      "Среднее количество сырья = 68.72966228921456\n"
     ]
    }
   ],
   "source": [
    "predicted_valid_2 = model_2_cv.predict(features_valid_2)\n",
    "rmse_2 = mean_squared_error(target_valid_2, predicted_valid_2, squared=False)\n",
    "\n",
    "\n",
    "print(\"Регион 2\")\n",
    "print(\"RMSE =\", rmse_2)\n",
    "print(\"R2:\", model_2_cv.best_score_)\n",
    "print(\"Среднее количество сырья =\", predicted_valid_2.mean())"
   ]
  },
  {
   "cell_type": "markdown",
   "metadata": {},
   "source": [
    "Во втором регионе модель предсказала содержание среднего колличества сырья 68.73тыс. баррелей. **RMSE** модели = **0.75**. Посмотрим теперь модель для третьего региона."
   ]
  },
  {
   "cell_type": "markdown",
   "metadata": {},
   "source": [
    "<a id='fit_3'></a>\n",
    "### Регион 3"
   ]
  },
  {
   "cell_type": "code",
   "execution_count": 21,
   "metadata": {},
   "outputs": [
    {
     "name": "stdout",
     "output_type": "stream",
     "text": [
      "Fitting 5 folds for each of 1 candidates, totalling 5 fits\n"
     ]
    },
    {
     "data": {
      "text/plain": [
       "GridSearchCV(cv=KFold(n_splits=5, random_state=12345, shuffle=True),\n",
       "             estimator=LinearRegression(), param_grid={},\n",
       "             return_train_score=True, scoring='r2', verbose=1)"
      ]
     },
     "execution_count": 21,
     "metadata": {},
     "output_type": "execute_result"
    }
   ],
   "source": [
    "folds = KFold(n_splits = 5, shuffle = True, random_state = 12345)\n",
    "\n",
    "params = {}\n",
    "model_3 = LinearRegression()\n",
    "\n",
    "model_3_cv = GridSearchCV(estimator = model_3, \n",
    "                          param_grid = params, \n",
    "                          scoring= 'r2', \n",
    "                          cv = folds, \n",
    "                          verbose = 1,\n",
    "                          return_train_score=True)\n",
    "model_3_cv.fit(features_train_3, target_train_3)"
   ]
  },
  {
   "cell_type": "code",
   "execution_count": 22,
   "metadata": {},
   "outputs": [
    {
     "name": "stdout",
     "output_type": "stream",
     "text": [
      "Регион 3\n",
      "RMSE = 37.989303738314234\n",
      "R2: 0.2745880174385956\n",
      "Среднее количество сырья = 95.01581689377421\n"
     ]
    }
   ],
   "source": [
    "predicted_valid_3 = model_3_cv.predict(features_valid_3)\n",
    "rmse_3 = mean_squared_error(target_valid_3, predicted_valid_3, squared=False)\n",
    "\n",
    "\n",
    "print(\"Регион 3\")\n",
    "print(\"RMSE =\", rmse_3)\n",
    "print(\"R2:\", model_3_cv.best_score_)\n",
    "print(\"Среднее количество сырья =\", predicted_valid_3.mean())"
   ]
  },
  {
   "cell_type": "markdown",
   "metadata": {},
   "source": [
    "В третьем регионе модель предсказала содержание среднего колличества сырья 95.02тыс. баррелей. **RMSE** модели = **37.99**."
   ]
  },
  {
   "cell_type": "markdown",
   "metadata": {},
   "source": [
    "<a id='fit_conclusion'></a>\n",
    "### Выводы по моделям\n",
    "Построили модели для каждого региона предсказывающие количество сырья у месторождения. Лучшую точность модель показывает во втором регионе, но в нём среднее количество сырья меньше чем двух других."
   ]
  },
  {
   "cell_type": "markdown",
   "metadata": {},
   "source": [
    "<a id='prep_profit_calc'></a>\n",
    "## Подготовка к расчёту прибыли"
   ]
  },
  {
   "cell_type": "markdown",
   "metadata": {},
   "source": [
    "Запишим в переменные нужные нам в дальнейшем значения для рассчётов."
   ]
  },
  {
   "cell_type": "code",
   "execution_count": 23,
   "metadata": {},
   "outputs": [],
   "source": [
    "budget = 10**10 # Бюджет на разработку скважин. 10 в 10 степени = 10млрд. рублей\n",
    "income = 450 * 10**3 # Доход с каждой единицы продукта (тыс. баррелей). 450тыс. рублей\n",
    "\n",
    "n_bootstraps = 1000 # Количество выборок для bootstrap\n",
    "n_marks = 500 # Количество точек для образца в bootstrap\n",
    "n_target = 200 # Количество точек с наилучшими значениями\n",
    "c_interval = 0.95 # Доверительный интервал\n",
    "\n",
    "predicted_1 = pd.Series(predicted_valid_1).reset_index(drop=True) # Предсказания модели по каждому региону\n",
    "predicted_2 = pd.Series(predicted_valid_2).reset_index(drop=True)\n",
    "predicted_3 = pd.Series(predicted_valid_3).reset_index(drop=True)\n",
    "\n",
    "target_valid_1 = target_valid_1.reset_index(drop=True) # Правильные ответы по кажодому региону на валидационной выборке \n",
    "target_valid_2 = target_valid_2.reset_index(drop=True)\n",
    "target_valid_3 = target_valid_3.reset_index(drop=True)"
   ]
  },
  {
   "cell_type": "markdown",
   "metadata": {},
   "source": [
    "В условии прописано что выбрать надо 200 лучших месторождений в регионе. Рассчитаем минимальный объём сырья 200 месторождения необходимый для покрытия бюджета выделенного на разработку скважин."
   ]
  },
  {
   "cell_type": "code",
   "execution_count": 24,
   "metadata": {},
   "outputs": [
    {
     "name": "stdout",
     "output_type": "stream",
     "text": [
      "111.11111111111111\n"
     ]
    }
   ],
   "source": [
    "avg_min =  budget / 200 / income\n",
    "print(avg_min)"
   ]
  },
  {
   "cell_type": "markdown",
   "metadata": {},
   "source": [
    "Выяснили про при разработке 200 месторождений, средний объём их должен привышать примерно 112тыс. баррелей. Среднее количество сырья в целом по регионам меньше этого значения."
   ]
  },
  {
   "cell_type": "markdown",
   "metadata": {},
   "source": [
    "<a id='profit_calc'></a>\n",
    "## Расчёт прибыли и рисков "
   ]
  },
  {
   "cell_type": "markdown",
   "metadata": {},
   "source": [
    "Напишем функцию для рассчёта прибыли."
   ]
  },
  {
   "cell_type": "code",
   "execution_count": 35,
   "metadata": {},
   "outputs": [],
   "source": [
    "def revenue(target, probabilities, count):\n",
    "    probs_sorted = probabilities.sort_values(ascending=False)\n",
    "    selected = target[probs_sorted.index][:count]\n",
    "    return income * selected.sum() - budget"
   ]
  },
  {
   "cell_type": "markdown",
   "metadata": {},
   "source": [
    "Используя bootstrap с 1000 выборок узнаем распределение прибыли. Будем брать образцы по 500 точек и выбирать их них 200 точек с наибольшими значениями. Узнаем среднюю прибыль, 95% доверительный интервал и посчитаем риск убытков. При выборе региона оставим только те у которых риск убытков меньше 2.5%."
   ]
  },
  {
   "cell_type": "markdown",
   "metadata": {},
   "source": [
    "<a id='profit_1'></a>\n",
    "### Регион 1"
   ]
  },
  {
   "cell_type": "code",
   "execution_count": 37,
   "metadata": {
    "scrolled": true
   },
   "outputs": [
    {
     "name": "stdout",
     "output_type": "stream",
     "text": [
      "Средняя прибыль: 525.595 (миллионов)\n",
      "95%-ый доверительный интервал: (509053824.4801459, 542136598.7822032)\n",
      "Риск убытков: 2.0%\n"
     ]
    }
   ],
   "source": [
    "state = np.random.RandomState(12345)\n",
    "    \n",
    "values = []\n",
    "for i in range(1000):\n",
    "    target_subsample = target_valid_1.sample(n=n_marks, replace=True, random_state=state) \n",
    "    probs_subsample = predicted_1[target_subsample.index]\n",
    "    values.append(revenue(target_subsample, probs_subsample, n_target))\n",
    "\n",
    "values = pd.Series(values)\n",
    "mean = values.mean()\n",
    "confidence_interval = st.t.interval(c_interval, len(values)-1, loc=mean, scale=values.sem())\n",
    "negative_values = values[values < 0]\n",
    "loss = len(negative_values) / len(values)\n",
    "\n",
    "\n",
    "print(\"Средняя прибыль: {0:.3f} (миллионов)\".format(mean / 10**6))\n",
    "print(\"{0:.0%}-ый доверительный интервал: {1}\".format(c_interval, confidence_interval))\n",
    "print(\"Риск убытков: {0:.1%}\".format(loss))"
   ]
  },
  {
   "cell_type": "markdown",
   "metadata": {},
   "source": [
    "В первом регионе риск убытков 2% и средняя прибыль 525,6м рублей. Данные риски нас устраивают, посмотрим на остальные регионы."
   ]
  },
  {
   "cell_type": "markdown",
   "metadata": {},
   "source": [
    "<a id='profit_2'></a>\n",
    "### Регион 2"
   ]
  },
  {
   "cell_type": "code",
   "execution_count": 27,
   "metadata": {},
   "outputs": [
    {
     "name": "stdout",
     "output_type": "stream",
     "text": [
      "Средняя прибыль: 515.233 (миллионов)\n",
      "95%-ый доверительный интервал: (501633882.79517, 528831692.437684)\n",
      "Риск убытков: 1.0%\n"
     ]
    }
   ],
   "source": [
    "state = np.random.RandomState(12345)\n",
    "    \n",
    "values = []\n",
    "for i in range(n_bootstraps):\n",
    "    target_subsample = target_valid_2.sample(n=n_marks, replace=True, random_state=state) \n",
    "    probs_subsample = predicted_2[target_subsample.index]\n",
    "    values.append(revenue(target_subsample, probs_subsample, n_target))\n",
    "\n",
    "values = pd.Series(values)\n",
    "mean = values.mean()\n",
    "confidence_interval = st.t.interval(c_interval, len(values)-1, loc=mean, scale=values.sem())\n",
    "negative_values = values[values < 0]\n",
    "loss = len(negative_values) / len(values)\n",
    "\n",
    "\n",
    "print(\"Средняя прибыль: {0:.3f} (миллионов)\".format(mean / 10**6))\n",
    "print(\"{0:.0%}-ый доверительный интервал: {1}\".format(c_interval, confidence_interval))\n",
    "print(\"Риск убытков: {0:.1%}\".format(loss))"
   ]
  },
  {
   "cell_type": "markdown",
   "metadata": {},
   "source": [
    "Получили риск убытков: 1%, средняя прибыль: 515,2 миллионов рублей. рублей. Риск убытков меньше чем в первом регионе, но и прибыль меньше, так как 2% нас устраивает остановимся на данный момент на первом регионе. Осталось посмотреть на третий регион."
   ]
  },
  {
   "cell_type": "markdown",
   "metadata": {},
   "source": [
    "<a id='profit_3'></a>\n",
    "### Регион 3"
   ]
  },
  {
   "cell_type": "code",
   "execution_count": 47,
   "metadata": {},
   "outputs": [
    {
     "name": "stdout",
     "output_type": "stream",
     "text": [
      "Средняя прибыль: 709.164 (миллионов)\n",
      "95%-ый доверительный интервал: (691705284.6932027, 726622205.0023091)\n",
      "Риск убытков: 0.4%\n"
     ]
    }
   ],
   "source": [
    "state = np.random.RandomState(12345)\n",
    "    \n",
    "values = []\n",
    "for i in range(n_bootstraps):\n",
    "    target_subsample = target_valid_3.sample(n=n_marks, replace=True, random_state=state) \n",
    "    probs_subsample = predicted_3[target_subsample.index]\n",
    "    values.append(revenue(target_subsample, probs_subsample, n_target))\n",
    "\n",
    "values = pd.Series(values)\n",
    "mean = values.mean()\n",
    "confidence_interval = st.t.interval(c_interval, len(values)-1, loc=mean, scale=values.sem())\n",
    "negative_values = values[values < 0]\n",
    "loss = len(negative_values) / len(values)\n",
    "\n",
    "\n",
    "print(\"Средняя прибыль: {0:.3f} (миллионов)\".format(mean / 10**6))\n",
    "print(\"{0:.0%}-ый доверительный интервал: {1}\".format(c_interval, confidence_interval))\n",
    "print(\"Риск убытков: {0:.1%}\".format(loss))"
   ]
  },
  {
   "cell_type": "markdown",
   "metadata": {},
   "source": [
    "Риск убытков: 0.4% и средняя прибыль: 709,2м рублей. По обоим показателям этот регион является лучшим."
   ]
  },
  {
   "cell_type": "markdown",
   "metadata": {},
   "source": [
    "<a id='conclusion'></a>\n",
    "## Выводы\n",
    "\n",
    "Перед нами стояла задача выбора региона для разработки новых нефтескважин. Нам были предоставлены данные по трем регионам из которых нужно выбрать лучший. Исследовали эти данные, удалили ненужные данные, добавили полиномиальные признаки. Разбили данные в каждом регионе на две выборки необходимые для обучения и тестирования модели.\n",
    "\n",
    "Перед моделью стояла задача регрессии. Использовали линейную регрессию в качестве модели, обучали её с помощь кросс-валидации GridSearchCV. Сделали предсказания на валидационной выборке по каждому региону.\n",
    "\n",
    "Подготовили необходимые данные для расчёта прибыли, а так же написали функцию для её расчёта. В условии имеем:\n",
    "\n",
    "- Бюджет: 10милиардов рублей\n",
    "- Доход: 450т рублей с каждой единицы сырья\n",
    "- Выбрать 200 для для разработки в регионе\n",
    "- Риск убытков должен быть ниже 2.5%\n",
    "\n",
    "Используя данную информацию рассчитали прибыли по регионам. По риску убытков все регионы подходят, но средняя прибыль лучшая в третьем регионе:\n",
    "\n",
    "- **Средняя прибыль**: 709,2миллиона рублей\n",
    "- **Доверительный интервал (95%)**: 692-727м рублей\n",
    "- **Риск убытков**: 0.4%\n",
    "\n",
    "На основе этих данные можем предложить третий регион для разработки."
   ]
  }
 ],
 "metadata": {
  "ExecuteTimeLog": [
   {
    "duration": 2603,
    "start_time": "2022-11-13T23:06:04.042Z"
   },
   {
    "duration": 388,
    "start_time": "2022-11-13T23:06:06.647Z"
   },
   {
    "duration": 32,
    "start_time": "2022-11-13T23:06:07.036Z"
   },
   {
    "duration": 27,
    "start_time": "2022-11-13T23:06:07.070Z"
   },
   {
    "duration": 41,
    "start_time": "2022-11-13T23:06:07.099Z"
   },
   {
    "duration": 370,
    "start_time": "2022-11-13T23:06:07.141Z"
   },
   {
    "duration": 167,
    "start_time": "2022-11-13T23:06:07.513Z"
   },
   {
    "duration": 142,
    "start_time": "2022-11-13T23:06:07.681Z"
   },
   {
    "duration": 25,
    "start_time": "2022-11-13T23:06:07.825Z"
   },
   {
    "duration": 29,
    "start_time": "2022-11-13T23:06:07.853Z"
   },
   {
    "duration": 39,
    "start_time": "2022-11-13T23:06:07.884Z"
   },
   {
    "duration": 304,
    "start_time": "2022-11-13T23:06:07.925Z"
   },
   {
    "duration": 130,
    "start_time": "2022-11-13T23:06:08.231Z"
   },
   {
    "duration": 4,
    "start_time": "2022-11-13T23:06:08.363Z"
   },
   {
    "duration": 16,
    "start_time": "2022-11-13T23:06:08.369Z"
   },
   {
    "duration": 5,
    "start_time": "2022-11-13T23:06:08.387Z"
   },
   {
    "duration": 8129,
    "start_time": "2022-11-13T23:06:08.394Z"
   },
   {
    "duration": 99,
    "start_time": "2022-11-13T23:06:16.524Z"
   },
   {
    "duration": 7698,
    "start_time": "2022-11-13T23:06:16.625Z"
   },
   {
    "duration": 97,
    "start_time": "2022-11-13T23:06:24.325Z"
   },
   {
    "duration": 7802,
    "start_time": "2022-11-13T23:06:24.424Z"
   },
   {
    "duration": 109,
    "start_time": "2022-11-13T23:06:32.227Z"
   },
   {
    "duration": 7,
    "start_time": "2022-11-13T23:06:32.423Z"
   },
   {
    "duration": 91,
    "start_time": "2022-11-13T23:06:32.432Z"
   },
   {
    "duration": 11,
    "start_time": "2022-11-13T23:06:32.525Z"
   },
   {
    "duration": 1222,
    "start_time": "2022-11-13T23:06:32.538Z"
   },
   {
    "duration": 1274,
    "start_time": "2022-11-13T23:06:33.762Z"
   },
   {
    "duration": 1249,
    "start_time": "2022-11-13T23:06:35.039Z"
   },
   {
    "duration": 5,
    "start_time": "2022-11-13T23:10:46.703Z"
   },
   {
    "duration": 4,
    "start_time": "2022-11-13T23:10:51.221Z"
   },
   {
    "duration": 3,
    "start_time": "2022-11-13T23:11:28.231Z"
   },
   {
    "duration": 10,
    "start_time": "2022-11-13T23:11:28.802Z"
   },
   {
    "duration": 24,
    "start_time": "2022-11-13T23:11:32.972Z"
   },
   {
    "duration": 155,
    "start_time": "2022-11-13T23:11:39.587Z"
   },
   {
    "duration": 4,
    "start_time": "2022-11-13T23:11:44.043Z"
   },
   {
    "duration": 135,
    "start_time": "2022-11-13T23:11:44.583Z"
   },
   {
    "duration": 1253,
    "start_time": "2022-11-13T23:11:47.369Z"
   },
   {
    "duration": 3,
    "start_time": "2022-11-13T23:12:11.557Z"
   },
   {
    "duration": 5,
    "start_time": "2022-11-13T23:12:17.231Z"
   },
   {
    "duration": 4,
    "start_time": "2022-11-13T23:12:20.101Z"
   },
   {
    "duration": 3,
    "start_time": "2022-11-13T23:12:23.820Z"
   },
   {
    "duration": 4,
    "start_time": "2022-11-13T23:12:25.379Z"
   },
   {
    "duration": 4,
    "start_time": "2022-11-13T23:13:03.980Z"
   },
   {
    "duration": 5,
    "start_time": "2022-11-13T23:13:09.264Z"
   },
   {
    "duration": 47,
    "start_time": "2022-11-13T23:13:16.116Z"
   },
   {
    "duration": 12373,
    "start_time": "2022-11-13T23:14:42.786Z"
   },
   {
    "duration": 1267,
    "start_time": "2022-11-13T23:15:01.367Z"
   }
  ],
  "kernelspec": {
   "display_name": "Python 3 (ipykernel)",
   "language": "python",
   "name": "python3"
  },
  "language_info": {
   "codemirror_mode": {
    "name": "ipython",
    "version": 3
   },
   "file_extension": ".py",
   "mimetype": "text/x-python",
   "name": "python",
   "nbconvert_exporter": "python",
   "pygments_lexer": "ipython3",
   "version": "3.9.18"
  },
  "toc": {
   "base_numbering": 1,
   "nav_menu": {},
   "number_sections": true,
   "sideBar": true,
   "skip_h1_title": true,
   "title_cell": "Table of Contents",
   "title_sidebar": "Contents",
   "toc_cell": false,
   "toc_position": {
    "height": "calc(100% - 180px)",
    "left": "10px",
    "top": "150px",
    "width": "512px"
   },
   "toc_section_display": true,
   "toc_window_display": true
  },
  "varInspector": {
   "cols": {
    "lenName": 16,
    "lenType": 16,
    "lenVar": 40
   },
   "kernels_config": {
    "python": {
     "delete_cmd_postfix": "",
     "delete_cmd_prefix": "del ",
     "library": "var_list.py",
     "varRefreshCmd": "print(var_dic_list())"
    },
    "r": {
     "delete_cmd_postfix": ") ",
     "delete_cmd_prefix": "rm(",
     "library": "var_list.r",
     "varRefreshCmd": "cat(var_dic_list()) "
    }
   },
   "types_to_exclude": [
    "module",
    "function",
    "builtin_function_or_method",
    "instance",
    "_Feature"
   ],
   "window_display": false
  }
 },
 "nbformat": 4,
 "nbformat_minor": 2
}
